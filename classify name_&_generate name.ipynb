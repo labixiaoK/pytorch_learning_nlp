{
 "cells": [
  {
   "cell_type": "markdown",
   "metadata": {},
   "source": [
    "## ===================classify names with char rnn======================="
   ]
  },
  {
   "cell_type": "code",
   "execution_count": 1,
   "metadata": {},
   "outputs": [],
   "source": [
    "import numpy as np\n",
    "import pandas as pd\n",
    "import json\n",
    "import re\n",
    "import torch"
   ]
  },
  {
   "cell_type": "code",
   "execution_count": 2,
   "metadata": {},
   "outputs": [],
   "source": [
    "from io import open\n",
    "import glob\n",
    "import os\n",
    "import string\n",
    "import unicodedata"
   ]
  },
  {
   "cell_type": "markdown",
   "metadata": {},
   "source": [
    "### PREPARING THE DATA"
   ]
  },
  {
   "cell_type": "code",
   "execution_count": 3,
   "metadata": {},
   "outputs": [],
   "source": [
    "def findFiles(path):\n",
    "    return glob.glob(path)\n"
   ]
  },
  {
   "cell_type": "code",
   "execution_count": 4,
   "metadata": {},
   "outputs": [
    {
     "name": "stdout",
     "output_type": "stream",
     "text": [
      "['./classify names with char rnn/data/names\\\\Arabic.txt', './classify names with char rnn/data/names\\\\Chinese.txt', './classify names with char rnn/data/names\\\\Czech.txt', './classify names with char rnn/data/names\\\\Dutch.txt', './classify names with char rnn/data/names\\\\English.txt', './classify names with char rnn/data/names\\\\French.txt', './classify names with char rnn/data/names\\\\German.txt', './classify names with char rnn/data/names\\\\Greek.txt', './classify names with char rnn/data/names\\\\Irish.txt', './classify names with char rnn/data/names\\\\Italian.txt', './classify names with char rnn/data/names\\\\Japanese.txt', './classify names with char rnn/data/names\\\\Korean.txt', './classify names with char rnn/data/names\\\\Polish.txt', './classify names with char rnn/data/names\\\\Portuguese.txt', './classify names with char rnn/data/names\\\\Russian.txt', './classify names with char rnn/data/names\\\\Scottish.txt', './classify names with char rnn/data/names\\\\Spanish.txt', './classify names with char rnn/data/names\\\\Vietnamese.txt']\n"
     ]
    }
   ],
   "source": [
    "print(findFiles('./classify names with char rnn/data/names/*.txt'))"
   ]
  },
  {
   "cell_type": "code",
   "execution_count": 5,
   "metadata": {},
   "outputs": [],
   "source": [
    "all_letters = string.ascii_letters + \" ,.;'\"\n",
    "n_letters = len(all_letters)"
   ]
  },
  {
   "cell_type": "code",
   "execution_count": 6,
   "metadata": {},
   "outputs": [],
   "source": [
    "# Turn a Unicode string to plain ASCII, thanks to http://stackoverflow.com/a/518232/2809427\n",
    "def unicodeToAscii(s):\n",
    "    return ''.join(\n",
    "        c for c in unicodedata.normalize('NFD', s)\n",
    "        if unicodedata.category(c) != 'Mn'\n",
    "        and c in all_letters\n",
    "    )"
   ]
  },
  {
   "cell_type": "code",
   "execution_count": 7,
   "metadata": {},
   "outputs": [
    {
     "name": "stdout",
     "output_type": "stream",
     "text": [
      "Slusarski\n"
     ]
    }
   ],
   "source": [
    "print(unicodeToAscii('Ślusàrski'))"
   ]
  },
  {
   "cell_type": "code",
   "execution_count": 8,
   "metadata": {},
   "outputs": [],
   "source": [
    "# Build the category_lines dictionary, a list of names per language\n",
    "category_lines = {}\n",
    "all_categories = []"
   ]
  },
  {
   "cell_type": "code",
   "execution_count": 9,
   "metadata": {},
   "outputs": [],
   "source": [
    "# Read a file and split into lines\n",
    "def readLines(filename):\n",
    "    lines = open(filename, encoding='utf-8').read().strip().split('\\n')\n",
    "    return [unicodeToAscii(line) for line in lines]"
   ]
  },
  {
   "cell_type": "code",
   "execution_count": 10,
   "metadata": {},
   "outputs": [],
   "source": [
    "for filename in findFiles('./classify names with char rnn/data/names/*.txt'):\n",
    "    category = os.path.splitext(os.path.basename(filename))[0]\n",
    "    all_categories.append(category)\n",
    "    category_lines[category] = readLines(filename)\n",
    "\n",
    "n_categories = len(all_categories)"
   ]
  },
  {
   "cell_type": "code",
   "execution_count": 11,
   "metadata": {},
   "outputs": [
    {
     "data": {
      "text/plain": [
       "['Abbas', 'Abbey', 'Abbott', 'Abdi']"
      ]
     },
     "execution_count": 11,
     "metadata": {},
     "output_type": "execute_result"
    }
   ],
   "source": [
    "category_lines['English'][:4]"
   ]
  },
  {
   "cell_type": "code",
   "execution_count": 12,
   "metadata": {},
   "outputs": [],
   "source": [
    "# Find letter index from all_letters, e.g. \"a\" = 0\n",
    "def letterToIndex(letter):\n",
    "    return all_letters.find(letter)"
   ]
  },
  {
   "cell_type": "code",
   "execution_count": 13,
   "metadata": {},
   "outputs": [],
   "source": [
    "# turn a letter into a <1 x n_letters> Tensor\n",
    "def letterToTensor(letter):\n",
    "    tensor = torch.zeros(1, n_letters)\n",
    "    tensor[0][letterToIndex(letter)] = 1\n",
    "    return tensor"
   ]
  },
  {
   "cell_type": "code",
   "execution_count": 14,
   "metadata": {},
   "outputs": [],
   "source": [
    "# Turn a line into a <line_length x 1 x n_letters>, or an array of one-hot letter vectors\n",
    "def lineToTensor(line):\n",
    "    tensor = torch.zeros(len(line), 1, n_letters)\n",
    "    for i in range(len(line)):\n",
    "        tensor[i][0] = letterToTensor(line[i])\n",
    "    return tensor\n",
    "        "
   ]
  },
  {
   "cell_type": "code",
   "execution_count": 15,
   "metadata": {},
   "outputs": [
    {
     "data": {
      "text/plain": [
       "tensor([[0., 0., 0., 0., 0., 1., 0., 0., 0., 0., 0., 0., 0., 0., 0., 0., 0., 0.,\n",
       "         0., 0., 0., 0., 0., 0., 0., 0., 0., 0., 0., 0., 0., 0., 0., 0., 0., 0.,\n",
       "         0., 0., 0., 0., 0., 0., 0., 0., 0., 0., 0., 0., 0., 0., 0., 0., 0., 0.,\n",
       "         0., 0., 0.]])"
      ]
     },
     "execution_count": 15,
     "metadata": {},
     "output_type": "execute_result"
    }
   ],
   "source": [
    "letterToTensor('f')"
   ]
  },
  {
   "cell_type": "code",
   "execution_count": 16,
   "metadata": {},
   "outputs": [
    {
     "data": {
      "text/plain": [
       "torch.Size([3, 1, 57])"
      ]
     },
     "execution_count": 16,
     "metadata": {},
     "output_type": "execute_result"
    }
   ],
   "source": [
    "lineToTensor('lsk').size()"
   ]
  },
  {
   "cell_type": "markdown",
   "metadata": {},
   "source": [
    "### CREATING THE NETWORK"
   ]
  },
  {
   "cell_type": "code",
   "execution_count": 17,
   "metadata": {},
   "outputs": [],
   "source": [
    "import torch.nn as nn"
   ]
  },
  {
   "cell_type": "code",
   "execution_count": 31,
   "metadata": {},
   "outputs": [],
   "source": [
    "class RNN(nn.Module):\n",
    "    def __init__(self, input_size, hidden_size, output_size):\n",
    "        super(RNN, self).__init__()\n",
    "        \n",
    "        self.hidden_size = hidden_size\n",
    "        self.i2h = nn.Linear(input_size + hidden_size, hidden_size)\n",
    "        self.i2o = nn.Linear(input_size + hidden_size, output_size)\n",
    "        self.softmax = nn.LogSoftmax(dim=1)\n",
    "    \n",
    "    def forward(self, input_, hidden):\n",
    "        combine = torch.cat((input_, hidden), 1)\n",
    "        hidden = self.i2h(combine)\n",
    "        output = self.i2o(combine)\n",
    "        output = self.softmax(output)\n",
    "        \n",
    "        return output, hidden\n",
    "    \n",
    "    def initHidden(self):\n",
    "        return torch.zeros(1, self.hidden_size)\n",
    "        "
   ]
  },
  {
   "cell_type": "code",
   "execution_count": 32,
   "metadata": {},
   "outputs": [],
   "source": [
    "n_hidden = 128\n",
    "rnn = RNN(n_letters, n_hidden, n_categories)"
   ]
  },
  {
   "cell_type": "code",
   "execution_count": 33,
   "metadata": {},
   "outputs": [],
   "source": [
    "input_ = letterToTensor('L')\n",
    "hidden = torch.zeros(1, n_hidden)\n",
    "output, hidden = rnn(input_, hidden)"
   ]
  },
  {
   "cell_type": "code",
   "execution_count": 36,
   "metadata": {},
   "outputs": [
    {
     "name": "stdout",
     "output_type": "stream",
     "text": [
      "tensor([[-2.9409, -2.8248, -2.8968, -2.7698, -2.9427, -2.8091, -2.8301, -2.9822,\n",
      "         -2.8413, -2.9813, -2.9368, -2.8935, -2.9377, -2.9108, -2.7839, -2.9612,\n",
      "         -2.9735, -2.8522]], grad_fn=<LogSoftmaxBackward>)\n"
     ]
    }
   ],
   "source": [
    "print(output)"
   ]
  },
  {
   "cell_type": "code",
   "execution_count": 37,
   "metadata": {},
   "outputs": [
    {
     "name": "stdout",
     "output_type": "stream",
     "text": [
      "tensor([[-2.9409, -2.8248, -2.8968, -2.7698, -2.9427, -2.8091, -2.8301, -2.9822,\n",
      "         -2.8413, -2.9813, -2.9368, -2.8935, -2.9377, -2.9108, -2.7839, -2.9612,\n",
      "         -2.9735, -2.8522]], grad_fn=<LogSoftmaxBackward>)\n"
     ]
    }
   ],
   "source": [
    "input_2 = lineToTensor('Llbert')\n",
    "hidden = torch.zeros(1, n_hidden)\n",
    "\n",
    "output, next_hidden = rnn(input_2[0], hidden)\n",
    "print(output)"
   ]
  },
  {
   "cell_type": "code",
   "execution_count": 38,
   "metadata": {},
   "outputs": [
    {
     "data": {
      "text/plain": [
       "torch.Size([1, 57])"
      ]
     },
     "execution_count": 38,
     "metadata": {},
     "output_type": "execute_result"
    }
   ],
   "source": [
    "input_.size()"
   ]
  },
  {
   "cell_type": "code",
   "execution_count": 39,
   "metadata": {},
   "outputs": [
    {
     "data": {
      "text/plain": [
       "torch.Size([6, 1, 57])"
      ]
     },
     "execution_count": 39,
     "metadata": {},
     "output_type": "execute_result"
    }
   ],
   "source": [
    "input_2.size()"
   ]
  },
  {
   "cell_type": "markdown",
   "metadata": {},
   "source": [
    "### TRAINING"
   ]
  },
  {
   "cell_type": "markdown",
   "metadata": {},
   "source": [
    "### training prepare"
   ]
  },
  {
   "cell_type": "code",
   "execution_count": 42,
   "metadata": {},
   "outputs": [],
   "source": [
    "def categoryFromOutput(output):\n",
    "    top_n, top_i = output.topk(1)\n",
    "    category_i = top_i[0].item()\n",
    "    return all_categories[category_i], category_i"
   ]
  },
  {
   "cell_type": "code",
   "execution_count": 43,
   "metadata": {},
   "outputs": [
    {
     "data": {
      "text/plain": [
       "('Dutch', 3)"
      ]
     },
     "execution_count": 43,
     "metadata": {},
     "output_type": "execute_result"
    }
   ],
   "source": [
    "categoryFromOutput(output)"
   ]
  },
  {
   "cell_type": "code",
   "execution_count": 4,
   "metadata": {},
   "outputs": [],
   "source": [
    "import random"
   ]
  },
  {
   "cell_type": "code",
   "execution_count": 45,
   "metadata": {},
   "outputs": [],
   "source": [
    "def randomChoise(l):\n",
    "    return l[random.randint(0, len(l) - 1)]"
   ]
  },
  {
   "cell_type": "code",
   "execution_count": 48,
   "metadata": {},
   "outputs": [],
   "source": [
    "def randomTraingExample():\n",
    "    category = randomChoise(all_categories)\n",
    "    line = randomChoise(category_lines[category])\n",
    "    cate_tensor = torch.tensor([all_categories.index(category)], dtype=torch.long)\n",
    "    line_tensor = lineToTensor(line)\n",
    "    \n",
    "    return category, line, cate_tensor, line_tensor"
   ]
  },
  {
   "cell_type": "code",
   "execution_count": 53,
   "metadata": {},
   "outputs": [
    {
     "data": {
      "text/plain": [
       "tensor([4])"
      ]
     },
     "execution_count": 53,
     "metadata": {},
     "output_type": "execute_result"
    }
   ],
   "source": [
    "torch.tensor([all_categories.index('English')], dtype=torch.long)"
   ]
  },
  {
   "cell_type": "code",
   "execution_count": 50,
   "metadata": {},
   "outputs": [
    {
     "name": "stdout",
     "output_type": "stream",
     "text": [
      "category=French, line=Leblanc\n",
      "category=Portuguese, line=Araujo\n",
      "category=Dutch, line=Reinders\n",
      "category=Japanese, line=Takahashi\n",
      "category=Czech, line=Wood\n"
     ]
    }
   ],
   "source": [
    "for i in range(5):\n",
    "    cate, line, cate_tensor, line_tensor = randomTraingExample()\n",
    "    print('category=' + cate + ', line=' + line)"
   ]
  },
  {
   "cell_type": "markdown",
   "metadata": {},
   "source": [
    "### training the network"
   ]
  },
  {
   "cell_type": "code",
   "execution_count": 51,
   "metadata": {},
   "outputs": [],
   "source": [
    "criterion = nn.NLLLoss()"
   ]
  },
  {
   "cell_type": "code",
   "execution_count": 52,
   "metadata": {},
   "outputs": [],
   "source": [
    "learning_rate = 0.005"
   ]
  },
  {
   "cell_type": "code",
   "execution_count": 54,
   "metadata": {},
   "outputs": [],
   "source": [
    "def train(cate_tensor, line_tensor):\n",
    "    hidden = rnn.initHidden()\n",
    "    rnn.zero_grad()\n",
    "    \n",
    "    for i in range(line_tensor.size()[0]):\n",
    "        input_ = line_tensor[i]\n",
    "        output, hidden = rnn(input_, hidden)\n",
    "    \n",
    "    loss = criterion(output, cate_tensor)\n",
    "    loss.backward()\n",
    "    \n",
    "    for p in rnn.parameters():\n",
    "        p.data.add_(-learning_rate, p.grad.data)\n",
    "    \n",
    "    return output, loss.item()"
   ]
  },
  {
   "cell_type": "code",
   "execution_count": 35,
   "metadata": {},
   "outputs": [],
   "source": [
    "import math\n",
    "import time"
   ]
  },
  {
   "cell_type": "code",
   "execution_count": 55,
   "metadata": {},
   "outputs": [],
   "source": [
    "n_iters = 60000\n",
    "plot_every = 1000\n",
    "print_every = 2000"
   ]
  },
  {
   "cell_type": "code",
   "execution_count": 56,
   "metadata": {},
   "outputs": [],
   "source": [
    "current_loss = 0\n",
    "all_loss = []"
   ]
  },
  {
   "cell_type": "code",
   "execution_count": 72,
   "metadata": {},
   "outputs": [],
   "source": [
    "def timeSince(since):\n",
    "    now = time.time()\n",
    "    s = now - since\n",
    "    m = s // 60\n",
    "    s -= m * 60\n",
    "    return '%dm %ds' %(m, s)"
   ]
  },
  {
   "cell_type": "code",
   "execution_count": 68,
   "metadata": {},
   "outputs": [
    {
     "name": "stdout",
     "output_type": "stream",
     "text": [
      "2000 3.3333333333333335% (0m 2s) 2.8486738204956055 Proulx Spanish × French\n",
      "4000 6.666666666666667% (0m 5s) 1.5743513107299805 Bustillo Italian × Spanish\n",
      "6000 10.0% (0m 7s) 3.1842269897460938 Simonis Greek × Dutch\n",
      "8000 13.333333333333334% (0m 10s) 0.5707998275756836 Byon Korean √\n",
      "10000 16.666666666666664% (0m 12s) 0.6791834831237793 Adamczyk Polish √\n",
      "12000 20.0% (0m 15s) 0.5689816474914551 Khouri Arabic √\n",
      "14000 23.333333333333332% (0m 17s) 0.27594470977783203 Lillis Greek √\n",
      "16000 26.666666666666668% (0m 20s) 0.3019843101501465 Qing Chinese √\n",
      "18000 30.0% (0m 22s) 0.9361562728881836 Piontek Polish √\n",
      "20000 33.33333333333333% (0m 25s) 1.867652177810669 Tillett Scottish × English\n",
      "22000 36.666666666666664% (0m 27s) 1.5082154273986816 Issa Arabic √\n",
      "24000 40.0% (0m 30s) 0.809934139251709 Ijiri Japanese √\n",
      "26000 43.333333333333336% (0m 32s) 2.533116579055786 Durrant French × English\n",
      "28000 46.666666666666664% (0m 35s) 0.08265924453735352 O'Sullivan Irish √\n",
      "30000 50.0% (0m 37s) 0.0050334930419921875 Ashikaga Japanese √\n",
      "32000 53.333333333333336% (0m 39s) 3.4606971740722656 Oborny Italian × Czech\n",
      "34000 56.666666666666664% (0m 42s) 0.7003879547119141 Gwerder German √\n",
      "36000 60.0% (0m 44s) 0.14161109924316406 Karkampasis Greek √\n",
      "38000 63.33333333333333% (0m 47s) 0.048836708068847656 Nassar Arabic √\n",
      "40000 66.66666666666666% (0m 49s) 0.12187385559082031 Thao Vietnamese √\n",
      "42000 70.0% (0m 52s) 0.30097341537475586 Nguyen Vietnamese √\n",
      "44000 73.33333333333333% (0m 55s) 0.6852197647094727 Lolos Greek √\n",
      "46000 76.66666666666667% (0m 57s) 1.2359662055969238 Confortola Spanish × Italian\n",
      "48000 80.0% (1m 0s) 3.231910467147827 Cuellar Scottish × Spanish\n",
      "50000 83.33333333333334% (1m 3s) 1.9481537342071533 Moreno Portuguese × Spanish\n",
      "52000 86.66666666666667% (1m 5s) 0.12477445602416992 Kubota Japanese √\n",
      "54000 90.0% (1m 8s) 0.08695459365844727 Kaloxylos Greek √\n",
      "56000 93.33333333333333% (1m 10s) 3.036625862121582 Mazza Portuguese × Italian\n",
      "58000 96.66666666666667% (1m 13s) 1.2695856094360352 White Japanese × Scottish\n",
      "60000 100.0% (1m 16s) 1.4023125171661377 Schneider German × Dutch\n"
     ]
    }
   ],
   "source": [
    "start = time.time()\n",
    "\n",
    "for i in range(1, n_iters+1):\n",
    "    category, line, cate_tensor, line_tensor = randomTraingExample()   \n",
    "    output, loss = train(cate_tensor, line_tensor)\n",
    "    current_loss += loss\n",
    "    \n",
    "    if i % print_every == 0:\n",
    "        guess, guess_i = categoryFromOutput(output)\n",
    "        correct = '√' if guess == category else '× {}'.format(category) \n",
    "        print('{} {}% ({}) {} {} {} {}'.format(i, i / n_iters * 100, timeSince(start), loss, line, guess, correct))\n",
    "    \n",
    "    if i % plot_every == 0:\n",
    "        all_loss.append(current_loss / plot_every)\n",
    "        current_loss = 0\n",
    "        "
   ]
  },
  {
   "cell_type": "markdown",
   "metadata": {},
   "source": [
    "### Plotting the Results"
   ]
  },
  {
   "cell_type": "code",
   "execution_count": 73,
   "metadata": {},
   "outputs": [],
   "source": [
    "import matplotlib.pyplot as plt\n",
    "import matplotlib.ticker as ticker"
   ]
  },
  {
   "cell_type": "code",
   "execution_count": 70,
   "metadata": {},
   "outputs": [
    {
     "data": {
      "text/plain": [
       "[<matplotlib.lines.Line2D at 0x1cfae58ec50>]"
      ]
     },
     "execution_count": 70,
     "metadata": {},
     "output_type": "execute_result"
    },
    {
     "data": {
      "image/png": "[encoded data removed]",
      "text/plain": [
       "<Figure size 432x288 with 1 Axes>"
      ]
     },
     "metadata": {
      "needs_background": "light"
     },
     "output_type": "display_data"
    }
   ],
   "source": [
    "plt.figure()\n",
    "plt.plot(all_loss)"
   ]
  },
  {
   "cell_type": "markdown",
   "metadata": {},
   "source": [
    "### EVALUATING THE RESULTS"
   ]
  },
  {
   "cell_type": "code",
   "execution_count": 74,
   "metadata": {},
   "outputs": [],
   "source": [
    "def evaluate(line_tensor):\n",
    "    with torch.no_grad():\n",
    "        hidden = rnn.initHidden()\n",
    "        \n",
    "        for i in range(line_tensor.size()[0]):\n",
    "            output, hidden = rnn(line_tensor[i], hidden)\n",
    "        return output"
   ]
  },
  {
   "cell_type": "code",
   "execution_count": 75,
   "metadata": {},
   "outputs": [],
   "source": [
    "confusion = torch.zeros(n_categories, n_categories)\n",
    "n_confusion = 1000"
   ]
  },
  {
   "cell_type": "code",
   "execution_count": 76,
   "metadata": {},
   "outputs": [],
   "source": [
    "for i in range(n_confusion):\n",
    "    category, line, cate_tensor, line_tensor = randomTraingExample()\n",
    "    output = evaluate(line_tensor)\n",
    "    guess, guess_i = categoryFromOutput(output)\n",
    "    confusion[all_categories.index(category)][guess_i] += 1\n",
    "    \n",
    "\n",
    "for i in range(n_categories):\n",
    "    confusion[i] = confusion[i] / confusion[i].sum()\n",
    "    "
   ]
  },
  {
   "cell_type": "code",
   "execution_count": 77,
   "metadata": {},
   "outputs": [
    {
     "data": {
      "image/png": "[encoded data removed]",
      "text/plain": [
       "<Figure size 432x288 with 2 Axes>"
      ]
     },
     "metadata": {
      "needs_background": "light"
     },
     "output_type": "display_data"
    }
   ],
   "source": [
    "fig = plt.figure()\n",
    "ax = fig.add_subplot(111)\n",
    "cat = ax.matshow(confusion.numpy())\n",
    "fig.colorbar(cat)\n",
    "# Set up axes\n",
    "ax.set_xticklabels([''] + all_categories, rotation=90)\n",
    "ax.set_yticklabels([''] + all_categories)\n",
    "\n",
    "# Force label at every tick\n",
    "ax.xaxis.set_major_locator(ticker.MultipleLocator(1))\n",
    "ax.yaxis.set_major_locator(ticker.MultipleLocator(1))\n",
    "\n",
    "# sphinx_gallery_thumbnail_number = 2\n",
    "plt.show()"
   ]
  },
  {
   "cell_type": "code",
   "execution_count": 87,
   "metadata": {},
   "outputs": [],
   "source": [
    "def predict(input_line, n_predicters=3):\n",
    "    print ('input:> ', input_line)\n",
    "    with torch.no_grad():\n",
    "        input_tensor = lineToTensor(input_line)\n",
    "        output = evaluate(input_tensor)\n",
    "    \n",
    "    topv, top_i = output.topk(n_predicters, 1, True)\n",
    "    predictions = []\n",
    "    \n",
    "    for i in range(n_predicters):\n",
    "        val = topv[0][i].item()\n",
    "        cate_id = top_i[0][i].item()\n",
    "        print('({:.2f}), {}'.format(val, all_categories[cate_id]))\n",
    "        predictions.append((val, all_categories[cate_id]))\n",
    "    \n",
    "    return predictions\n",
    "    "
   ]
  },
  {
   "cell_type": "code",
   "execution_count": 88,
   "metadata": {},
   "outputs": [
    {
     "name": "stdout",
     "output_type": "stream",
     "text": [
      "input:>  Dovesky\n",
      "(-0.38), Russian\n",
      "(-1.98), Czech\n",
      "(-2.60), Polish\n",
      "input:>  Jackson\n",
      "(-0.85), Scottish\n",
      "(-1.47), Russian\n",
      "(-1.80), English\n",
      "input:>  Satoshi\n",
      "(-1.11), Arabic\n",
      "(-1.53), Japanese\n",
      "(-1.66), Italian\n"
     ]
    },
    {
     "data": {
      "text/plain": [
       "[(-1.1068410873413086, 'Arabic'),\n",
       " (-1.5286171436309814, 'Japanese'),\n",
       " (-1.660057783126831, 'Italian')]"
      ]
     },
     "execution_count": 88,
     "metadata": {},
     "output_type": "execute_result"
    }
   ],
   "source": [
    "predict('Dovesky')\n",
    "predict('Jackson')\n",
    "predict('Satoshi')"
   ]
  },
  {
   "cell_type": "markdown",
   "metadata": {},
   "source": [
    "## ===========================generating names=============================="
   ]
  },
  {
   "cell_type": "markdown",
   "metadata": {},
   "source": [
    "### model"
   ]
  },
  {
   "cell_type": "code",
   "execution_count": 61,
   "metadata": {},
   "outputs": [],
   "source": [
    "class RNN2(nn.Module):\n",
    "    def __init__(self, category_size, input_size, hidden_size, output_size):\n",
    "        super(RNN2, self).__init__()\n",
    "        \n",
    "        self.hidden_size = hidden_size\n",
    "        self.i2o = nn.Linear(category_size + input_size + hidden_size, output_size)\n",
    "        self.i2h = nn.Linear(category_size + input_size + hidden_size, hidden_size)\n",
    "        self.o2o = nn.Linear(output_size + hidden_size, output_size)\n",
    "        self.dropout = nn.Dropout(0.1)\n",
    "        self.softmax = nn.LogSoftmax(dim=1)\n",
    "        \n",
    "    def forward(self, category, input_, hidden):\n",
    "        combine_1 = torch.cat((category, input_, hidden), 1)\n",
    "        hidden = self.i2h(combine_1)\n",
    "        output = self.i2o(combine_1)\n",
    "        combine_2 = torch.cat((hidden, output), 1)\n",
    "        dropout = self.dropout(combine_2)\n",
    "        output_ = self.o2o(dropout)\n",
    "        output_ = self.softmax(output_)\n",
    "        \n",
    "        return output_, hidden\n",
    "        \n",
    "    def initHidden(self):\n",
    "        return torch.zeros(1, self.hidden_size)\n",
    "        "
   ]
  },
  {
   "cell_type": "markdown",
   "metadata": {},
   "source": [
    "### training"
   ]
  },
  {
   "cell_type": "code",
   "execution_count": 37,
   "metadata": {},
   "outputs": [],
   "source": [
    "all_letters = string.ascii_letters + \" .,;'-\"\n",
    "n_letters = len(all_letters) + 1 # Plus EOS marker"
   ]
  },
  {
   "cell_type": "code",
   "execution_count": 38,
   "metadata": {},
   "outputs": [],
   "source": [
    "import random"
   ]
  },
  {
   "cell_type": "code",
   "execution_count": 39,
   "metadata": {},
   "outputs": [],
   "source": [
    "def randomChoice(l):\n",
    "    return l[random.randint(0, len(l)-1)]"
   ]
  },
  {
   "cell_type": "code",
   "execution_count": 40,
   "metadata": {},
   "outputs": [],
   "source": [
    "def randomTrainingPair():\n",
    "    category = randomChoice(all_categories)\n",
    "    line = randomChoice(category_lines[category])\n",
    "    return category, line"
   ]
  },
  {
   "cell_type": "code",
   "execution_count": 41,
   "metadata": {},
   "outputs": [],
   "source": [
    "def categoryToTensor(category):\n",
    "    tensor = torch.zeros(1, n_categories)\n",
    "    ind = all_categories.index(category)\n",
    "    tensor[0][ind] = 1\n",
    "    return tensor"
   ]
  },
  {
   "cell_type": "code",
   "execution_count": 42,
   "metadata": {},
   "outputs": [],
   "source": [
    "def inputToTensor(input_):\n",
    "    tensor = torch.zeros(len(input_), 1, n_letters)\n",
    "    for i in range(len(input_)):\n",
    "        ind = all_letters.find(input_[i])\n",
    "        tensor[i][0][ind] = 1\n",
    "    \n",
    "    return tensor\n",
    "        "
   ]
  },
  {
   "cell_type": "code",
   "execution_count": 43,
   "metadata": {},
   "outputs": [],
   "source": [
    "def targetToTensor(line):\n",
    "    letter_inds = [all_letters.find(line[i]) for i in range(1, len(line))]\n",
    "    letter_inds.append(n_letters - 1)\n",
    "    \n",
    "    return torch.LongTensor(letter_inds)"
   ]
  },
  {
   "cell_type": "code",
   "execution_count": 44,
   "metadata": {},
   "outputs": [],
   "source": [
    "def randomTrainingExample():\n",
    "    category, line = randomTrainingPair()\n",
    "    cate_tensor = categoryToTensor(category)\n",
    "    input_tensor = inputToTensor(line)\n",
    "    target_tensor = targetToTensor(line)\n",
    "    #print(cate_tensor.size(), input_tensor.size(), target_tensor.size())\n",
    "    return cate_tensor, input_tensor, target_tensor"
   ]
  },
  {
   "cell_type": "code",
   "execution_count": 67,
   "metadata": {},
   "outputs": [],
   "source": [
    "criterion = nn.NLLLoss()\n",
    "learning_rate = 0.005\n",
    "\n",
    "rnn = RNN2(n_categories, n_letters, 128, n_letters)"
   ]
  },
  {
   "cell_type": "code",
   "execution_count": 68,
   "metadata": {},
   "outputs": [],
   "source": [
    "def train(cate_tensor, input_tensor, target_tensor):\n",
    "    target_tensor.unsqueeze_(-1)\n",
    "    hidden = rnn.initHidden()\n",
    "    rnn.zero_grad()\n",
    "    \n",
    "    loss = 0\n",
    "    \n",
    "    for i in range(input_tensor.size()[0]):\n",
    "        output, hidden = rnn(cate_tensor, input_tensor[i], hidden)\n",
    "        \n",
    "        l = criterion(output, target_tensor[i])\n",
    "        loss += l\n",
    "        \n",
    "    loss.backward()\n",
    "    \n",
    "    '''\n",
    "    for p in rnn.named_parameters():\n",
    "        print(p[0])\n",
    "        print(p[1].grad)\n",
    "    '''\n",
    "    \n",
    "    for p in rnn.parameters():\n",
    "        p.data.add_(-learning_rate, p.grad.data)\n",
    "\n",
    "    return output, loss.item() / input_tensor.size()[0]\n",
    "    "
   ]
  },
  {
   "cell_type": "code",
   "execution_count": 69,
   "metadata": {},
   "outputs": [],
   "source": [
    "n_iters = 60000\n",
    "plot_every = 1000\n",
    "print_every = 2000"
   ]
  },
  {
   "cell_type": "code",
   "execution_count": 70,
   "metadata": {},
   "outputs": [],
   "source": [
    "current_loss = 0\n",
    "all_loss = []"
   ]
  },
  {
   "cell_type": "code",
   "execution_count": 74,
   "metadata": {
    "scrolled": true
   },
   "outputs": [
    {
     "name": "stdout",
     "output_type": "stream",
     "text": [
      "2000 3.3333333333333335% (0m 6s) 2.5307792027791343\n",
      "4000 6.666666666666667% (0m 12s) 2.923072099685669\n",
      "6000 10.0% (0m 19s) 2.6317022111680775\n",
      "8000 13.333333333333334% (0m 25s) 3.2687627618963067\n",
      "10000 16.666666666666664% (0m 31s) 2.2600662231445314\n",
      "12000 20.0% (0m 39s) 2.006850814819336\n",
      "14000 23.333333333333332% (0m 45s) 2.6528994820334693\n",
      "16000 26.666666666666668% (0m 52s) 1.8246253728866577\n",
      "18000 30.0% (0m 58s) 1.8739002227783204\n",
      "20000 33.33333333333333% (1m 5s) 1.975202242533366\n",
      "22000 36.666666666666664% (1m 11s) 1.4577653408050537\n",
      "24000 40.0% (1m 17s) 2.160731451851981\n",
      "26000 43.333333333333336% (1m 23s) 2.727476437886556\n",
      "28000 46.666666666666664% (1m 29s) 2.5003886222839355\n",
      "30000 50.0% (1m 35s) 1.9487213134765624\n",
      "32000 53.333333333333336% (1m 41s) 2.2060232162475586\n",
      "34000 56.666666666666664% (1m 47s) 2.1714682579040527\n",
      "36000 60.0% (1m 54s) 2.0001659393310547\n",
      "38000 63.33333333333333% (2m 0s) 1.5509767532348633\n",
      "40000 66.66666666666666% (2m 6s) 1.7550228663853236\n",
      "42000 70.0% (2m 12s) 1.8113021850585938\n",
      "44000 73.33333333333333% (2m 18s) 2.666681671142578\n",
      "46000 76.66666666666667% (2m 24s) 1.9725590944290161\n",
      "48000 80.0% (2m 30s) 1.8266350428263347\n",
      "50000 83.33333333333334% (2m 36s) 2.199151611328125\n",
      "52000 86.66666666666667% (2m 42s) 1.4657475153605144\n",
      "54000 90.0% (2m 48s) 3.586171865463257\n",
      "56000 93.33333333333333% (2m 55s) 1.5600744883219402\n",
      "58000 96.66666666666667% (3m 1s) 3.0087448755900064\n",
      "60000 100.0% (3m 7s) 1.4162778854370117\n"
     ]
    }
   ],
   "source": [
    "start = time.time()\n",
    "\n",
    "for i in range(1, n_iters+1):\n",
    "    output, loss = train(*randomTrainingExample())\n",
    "    current_loss += loss\n",
    "    \n",
    "    if i % print_every == 0:\n",
    "        print('{} {:.3}% ({}) {}'.format(i, i / n_iters * 100, timeSince(start), loss))\n",
    "    \n",
    "    if i % plot_every == 0:\n",
    "        all_loss.append(current_loss / plot_every)\n",
    "        current_loss = 0\n",
    "\n"
   ]
  },
  {
   "cell_type": "code",
   "execution_count": 60,
   "metadata": {},
   "outputs": [
    {
     "data": {
      "text/plain": [
       "RNN2(\n",
       "  (i2o): Linear(in_features=205, out_features=59, bias=True)\n",
       "  (i2h): Linear(in_features=205, out_features=128, bias=True)\n",
       "  (o2o): Linear(in_features=187, out_features=59, bias=True)\n",
       "  (dropout): Dropout(p=0.1)\n",
       "  (softmax): LogSoftmax()\n",
       ")"
      ]
     },
     "execution_count": 60,
     "metadata": {},
     "output_type": "execute_result"
    }
   ],
   "source": [
    "rnn"
   ]
  },
  {
   "cell_type": "code",
   "execution_count": 75,
   "metadata": {},
   "outputs": [
    {
     "data": {
      "text/plain": [
       "[<matplotlib.lines.Line2D at 0x27c23eba550>]"
      ]
     },
     "execution_count": 75,
     "metadata": {},
     "output_type": "execute_result"
    },
    {
     "data": {
      "image/png": "[encoded data removed]",
      "text/plain": [
       "<Figure size 432x288 with 1 Axes>"
      ]
     },
     "metadata": {
      "needs_background": "light"
     },
     "output_type": "display_data"
    }
   ],
   "source": [
    "plt.figure()\n",
    "plt.plot(all_loss)"
   ]
  },
  {
   "cell_type": "code",
   "execution_count": 87,
   "metadata": {},
   "outputs": [],
   "source": [
    "max_len = 15\n",
    "def sample(category, start_letter='A'):\n",
    "    with torch.no_grad():\n",
    "        hidden = rnn.initHidden()\n",
    "        cate_tensor = categoryToTensor(category)\n",
    "        input_tensor = inputToTensor(start_letter)\n",
    "        \n",
    "        output_name = start_letter\n",
    "        \n",
    "        for i in range(max_len):\n",
    "            output, hidden = rnn(cate_tensor, input_tensor[0], hidden)\n",
    "            topv, topi = output.topk(1)\n",
    "            topi = topi[0][0].item()\n",
    "            if topi == n_letters - 1:\n",
    "                break\n",
    "            else:\n",
    "                letter = all_letters[topi]\n",
    "                output_name += letter\n",
    "                input_tensor = inputToTensor(letter)\n",
    "        \n",
    "        return output_name\n",
    "            "
   ]
  },
  {
   "cell_type": "code",
   "execution_count": 88,
   "metadata": {},
   "outputs": [],
   "source": [
    "def samples(category, start_letters='ABC'):\n",
    "    output = []\n",
    "    for i in start_letters:\n",
    "        output.append(sample(category, i))\n",
    "    print(' '.join(output))\n",
    "    return output"
   ]
  },
  {
   "cell_type": "code",
   "execution_count": 90,
   "metadata": {},
   "outputs": [
    {
     "name": "stdout",
     "output_type": "stream",
     "text": [
      "Aleran Berger Chander\n"
     ]
    },
    {
     "data": {
      "text/plain": [
       "['Aleran', 'Berger', 'Chander']"
      ]
     },
     "execution_count": 90,
     "metadata": {},
     "output_type": "execute_result"
    }
   ],
   "source": [
    "samples('English')"
   ]
  },
  {
   "cell_type": "code",
   "execution_count": 91,
   "metadata": {},
   "outputs": [
    {
     "name": "stdout",
     "output_type": "stream",
     "text": [
      "Romandhin Urakovin Shavakhin\n",
      "Gren Echer Romer\n",
      "Sala Parera Alera\n",
      "Chan Han Ina\n"
     ]
    },
    {
     "data": {
      "text/plain": [
       "['Chan', 'Han', 'Ina']"
      ]
     },
     "execution_count": 91,
     "metadata": {},
     "output_type": "execute_result"
    }
   ],
   "source": [
    "samples('Russian', 'RUS')\n",
    "\n",
    "samples('German', 'GER')\n",
    "\n",
    "samples('Spanish', 'SPA')\n",
    "\n",
    "samples('Chinese', 'CHI')"
   ]
  },
  {
   "cell_type": "code",
   "execution_count": null,
   "metadata": {},
   "outputs": [],
   "source": []
  }
 ],
 "metadata": {
  "kernelspec": {
   "display_name": "Python 3",
   "language": "python",
   "name": "python3"
  },
  "language_info": {
   "codemirror_mode": {
    "name": "ipython",
    "version": 3
   },
   "file_extension": ".py",
   "mimetype": "text/x-python",
   "name": "python",
   "nbconvert_exporter": "python",
   "pygments_lexer": "ipython3",
   "version": "3.7.0"
  }
 },
 "nbformat": 4,
 "nbformat_minor": 2
}
