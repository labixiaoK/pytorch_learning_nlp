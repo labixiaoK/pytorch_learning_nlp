{
 "cells": [
  {
   "cell_type": "code",
   "execution_count": 1,
   "metadata": {},
   "outputs": [],
   "source": [
    "import torch\n",
    "import numpy as np\n",
    "import torch.nn as nn"
   ]
  },
  {
   "cell_type": "code",
   "execution_count": 2,
   "metadata": {},
   "outputs": [],
   "source": [
    "import allennlp\n",
    "from allennlp.commands.elmo import ElmoEmbedder"
   ]
  },
  {
   "cell_type": "code",
   "execution_count": 3,
   "metadata": {
    "scrolled": true
   },
   "outputs": [
    {
     "name": "stderr",
     "output_type": "stream",
     "text": [
      "01/12/2019 16:43:05 - INFO - allennlp.commands.elmo -   Initializing ELMo.\n"
     ]
    }
   ],
   "source": [
    "elmo = ElmoEmbedder()\n",
    "tokens = [\"I\", \"ate\", \"an\", \"apple\", \"for\", \"breakfast\"]"
   ]
  },
  {
   "cell_type": "code",
   "execution_count": 4,
   "metadata": {},
   "outputs": [],
   "source": [
    "vectors = elmo.embed_sentence(tokens)\n",
    "assert(len(vectors) == 3) # one for each layer in the ELMo output\n",
    "assert(len(vectors[0]) == len(tokens)) # the vector elements correspond with the input tokens"
   ]
  },
  {
   "cell_type": "code",
   "execution_count": 9,
   "metadata": {},
   "outputs": [
    {
     "data": {
      "text/plain": [
       "(6, 1024)"
      ]
     },
     "execution_count": 9,
     "metadata": {},
     "output_type": "execute_result"
    }
   ],
   "source": [
    "vectors[0].shape"
   ]
  },
  {
   "cell_type": "code",
   "execution_count": 10,
   "metadata": {},
   "outputs": [
    {
     "data": {
      "text/plain": [
       "array([[ 0.6922717 , -0.32613146,  0.22827497, ...,  0.17574835,\n",
       "         0.26598698, -0.10131979],\n",
       "       [-0.66311526,  0.29512236,  0.6520726 , ...,  0.656275  ,\n",
       "         0.42394808,  1.2068851 ],\n",
       "       [ 0.07965712,  0.199197  , -0.06949018, ...,  0.02166952,\n",
       "         0.12296096,  0.00410952],\n",
       "       [ 0.14436802,  0.06777563,  0.37736315, ...,  0.4103155 ,\n",
       "         0.2902936 , -0.06104511],\n",
       "       [-0.24150279,  0.05413349, -0.31142166, ...,  0.40102756,\n",
       "        -0.26212472, -0.42983246],\n",
       "       [-0.23136717,  0.27052838,  0.44680035, ...,  0.2029985 ,\n",
       "        -0.2524648 ,  0.04154757]], dtype=float32)"
      ]
     },
     "execution_count": 10,
     "metadata": {},
     "output_type": "execute_result"
    }
   ],
   "source": [
    "vectors[0]"
   ]
  },
  {
   "cell_type": "code",
   "execution_count": 12,
   "metadata": {},
   "outputs": [],
   "source": [
    "import scipy"
   ]
  },
  {
   "cell_type": "code",
   "execution_count": 13,
   "metadata": {},
   "outputs": [],
   "source": [
    "vectors2 = elmo.embed_sentence([\"I\", \"ate\", \"a\", \"carrot\", \"for\", \"breakfast\"])\n"
   ]
  },
  {
   "cell_type": "code",
   "execution_count": 18,
   "metadata": {},
   "outputs": [
    {
     "name": "stdout",
     "output_type": "stream",
     "text": [
      "[ 1.2281964  -0.514315    1.6688714  ... -0.5978507  -0.03631526\n",
      "  2.2921371 ]\n",
      "[ 0.57359093 -0.84762454  1.2926918  ... -0.37577307 -0.02598709\n",
      "  1.4607195 ]\n"
     ]
    }
   ],
   "source": [
    "print(vectors[2][3])\n",
    "print(vectors2[2][3])"
   ]
  },
  {
   "cell_type": "code",
   "execution_count": 22,
   "metadata": {},
   "outputs": [
    {
     "data": {
      "text/plain": [
       "0.18020617961883545"
      ]
     },
     "execution_count": 22,
     "metadata": {},
     "output_type": "execute_result"
    }
   ],
   "source": [
    "scipy.spatial.distance.cosine(vectors[2][3], vectors2[2][3]) # cosine distance between \"apple\" and \"carrot\" in the last layer"
   ]
  },
  {
   "cell_type": "code",
   "execution_count": 34,
   "metadata": {},
   "outputs": [
    {
     "data": {
      "text/plain": [
       "0.2893291711807251"
      ]
     },
     "execution_count": 34,
     "metadata": {},
     "output_type": "execute_result"
    }
   ],
   "source": [
    "scipy.spatial.distance.cosine(vectors[1][3], vectors2[1][3]) # cosine distance between \"apple\" and \"carrot\" in the second layer"
   ]
  },
  {
   "cell_type": "code",
   "execution_count": 35,
   "metadata": {},
   "outputs": [
    {
     "data": {
      "text/plain": [
       "0.720541387796402"
      ]
     },
     "execution_count": 35,
     "metadata": {},
     "output_type": "execute_result"
    }
   ],
   "source": [
    "scipy.spatial.distance.cosine(vectors[0][3], vectors2[0][3]) # cosine distance between \"apple\" and \"carrot\" in the first layer"
   ]
  },
  {
   "cell_type": "code",
   "execution_count": 31,
   "metadata": {},
   "outputs": [
    {
     "data": {
      "text/plain": [
       "0.32938462495803833"
      ]
     },
     "execution_count": 31,
     "metadata": {},
     "output_type": "execute_result"
    }
   ],
   "source": [
    "scipy.spatial.distance.cosine(vectors[2][2], vectors2[2][2]) # cosine distance between \"an\" and \"a\" in the last layer"
   ]
  },
  {
   "cell_type": "code",
   "execution_count": 36,
   "metadata": {},
   "outputs": [
    {
     "data": {
      "text/plain": [
       "0.1463645100593567"
      ]
     },
     "execution_count": 36,
     "metadata": {},
     "output_type": "execute_result"
    }
   ],
   "source": [
    "scipy.spatial.distance.cosine(vectors[1][2], vectors2[1][2]) # cosine distance between \"an\" and \"a\" in the second layer"
   ]
  },
  {
   "cell_type": "code",
   "execution_count": 38,
   "metadata": {},
   "outputs": [
    {
     "data": {
      "text/plain": [
       "0.11943727731704712"
      ]
     },
     "execution_count": 38,
     "metadata": {},
     "output_type": "execute_result"
    }
   ],
   "source": [
    "scipy.spatial.distance.cosine(vectors[0][2], vectors2[0][2]) # cosine distance between \"an\" and \"a\" in the 1st layer"
   ]
  },
  {
   "cell_type": "code",
   "execution_count": 41,
   "metadata": {},
   "outputs": [
    {
     "name": "stdout",
     "output_type": "stream",
     "text": [
      "0.04233425855636597\n",
      "0.04537153244018555\n",
      "0.0\n"
     ]
    }
   ],
   "source": [
    "print(scipy.spatial.distance.cosine(vectors[2][4], vectors2[2][4])) # cosine distance between \"for\" and \"for\" in the last layer\n",
    "print(scipy.spatial.distance.cosine(vectors[1][4], vectors2[1][4])) # cosine distance between \"for\" and \"for\" in the second layer\n",
    "print(scipy.spatial.distance.cosine(vectors[0][4], vectors2[0][4])) # cosine distance between \"for\" and \"for\" in the first layer"
   ]
  },
  {
   "cell_type": "code",
   "execution_count": null,
   "metadata": {},
   "outputs": [],
   "source": []
  }
 ],
 "metadata": {
  "kernelspec": {
   "display_name": "Python 3",
   "language": "python",
   "name": "python3"
  },
  "language_info": {
   "codemirror_mode": {
    "name": "ipython",
    "version": 3
   },
   "file_extension": ".py",
   "mimetype": "text/x-python",
   "name": "python",
   "nbconvert_exporter": "python",
   "pygments_lexer": "ipython3",
   "version": "3.7.0"
  }
 },
 "nbformat": 4,
 "nbformat_minor": 2
}
