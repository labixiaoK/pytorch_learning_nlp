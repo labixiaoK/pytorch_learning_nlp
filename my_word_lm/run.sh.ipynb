{
 "cells": [
  {
   "cell_type": "code",
   "execution_count": 1,
   "metadata": {
    "scrolled": true
   },
   "outputs": [
    {
     "name": "stdout",
     "output_type": "stream",
     "text": [
      "args.tie True\n",
      "| epoch   1 |   200/ 2176 batches | lr 20.00 | s/batch  0.08 | loss  7.13 | ppl  1245.61\n",
      "| epoch   1 |   400/ 2176 batches | lr 20.00 | s/batch  0.08 | loss  6.75 | ppl   853.77\n",
      "| epoch   1 |   600/ 2176 batches | lr 20.00 | s/batch  0.07 | loss  6.60 | ppl   732.31\n",
      "| epoch   1 |   800/ 2176 batches | lr 20.00 | s/batch  0.07 | loss  6.46 | ppl   638.09\n",
      "| epoch   1 |  1000/ 2176 batches | lr 20.00 | s/batch  0.07 | loss  6.43 | ppl   617.44\n",
      "| epoch   1 |  1200/ 2176 batches | lr 20.00 | s/batch  0.07 | loss  6.43 | ppl   617.76\n",
      "| epoch   1 |  1400/ 2176 batches | lr 20.00 | s/batch  0.07 | loss  6.31 | ppl   548.98\n",
      "| epoch   1 |  1600/ 2176 batches | lr 20.00 | s/batch  0.08 | loss  6.31 | ppl   550.16\n",
      "| epoch   1 |  1800/ 2176 batches | lr 20.00 | s/batch  0.08 | loss  6.28 | ppl   534.16\n",
      "| epoch   1 |  2000/ 2176 batches | lr 20.00 | s/batch  0.08 | loss  6.25 | ppl   519.37\n",
      "-----------------------------------------------------------------------------------------\n",
      "| end of epoch   1 | has elapsed time:  4.40mins | total need time:  8.79mins | valid loss  6.43 | valid ppl   619.20\n",
      "-----------------------------------------------------------------------------------------\n",
      "| epoch   2 |   200/ 2176 batches | lr 20.00 | s/batch  0.09 | loss  6.23 | ppl   509.99\n",
      "| epoch   2 |   400/ 2176 batches | lr 20.00 | s/batch  0.08 | loss  6.27 | ppl   529.81\n",
      "| epoch   2 |   600/ 2176 batches | lr 20.00 | s/batch  0.08 | loss  6.24 | ppl   513.21\n",
      "| epoch   2 |   800/ 2176 batches | lr 20.00 | s/batch  0.07 | loss  6.16 | ppl   475.20\n",
      "| epoch   2 |  1000/ 2176 batches | lr 20.00 | s/batch  0.08 | loss  6.16 | ppl   474.41\n",
      "| epoch   2 |  1200/ 2176 batches | lr 20.00 | s/batch  0.08 | loss  6.22 | ppl   500.25\n",
      "| epoch   2 |  1400/ 2176 batches | lr 20.00 | s/batch  0.07 | loss  6.12 | ppl   455.72\n",
      "| epoch   2 |  1600/ 2176 batches | lr 20.00 | s/batch  0.07 | loss  6.17 | ppl   476.36\n",
      "| epoch   2 |  1800/ 2176 batches | lr 20.00 | s/batch  0.07 | loss  6.17 | ppl   480.14\n",
      "| epoch   2 |  2000/ 2176 batches | lr 20.00 | s/batch  0.08 | loss  6.12 | ppl   453.69\n",
      "-----------------------------------------------------------------------------------------\n",
      "| end of epoch   2 | has elapsed time:  8.69mins | total need time:  8.69mins | valid loss  6.28 | valid ppl   534.45\n",
      "-----------------------------------------------------------------------------------------\n"
     ]
    },
    {
     "data": {
      "text/plain": [
       "<Figure size 640x480 with 0 Axes>"
      ]
     },
     "metadata": {},
     "output_type": "display_data"
    },
    {
     "data": {
      "text/plain": [
       "<Figure size 640x480 with 1 Axes>"
      ]
     },
     "metadata": {},
     "output_type": "display_data"
    },
    {
     "name": "stdout",
     "output_type": "stream",
     "text": [
      "=========================================================================================\n",
      "| end of training | test loss  6.54 | test ppl   693.45\n",
      "=========================================================================================\n"
     ]
    }
   ],
   "source": [
    "\n",
    "%run main.py --tie --epoch 2 --emsize 5 --nlayers 1 --bptt 5 --nhid 5 --dropout 0"
   ]
  },
  {
   "cell_type": "code",
   "execution_count": 2,
   "metadata": {},
   "outputs": [],
   "source": [
    "#自己笔记本跑不动啊，太累了。。。"
   ]
  },
  {
   "cell_type": "code",
   "execution_count": null,
   "metadata": {},
   "outputs": [],
   "source": []
  }
 ],
 "metadata": {
  "kernelspec": {
   "display_name": "Python 3",
   "language": "python",
   "name": "python3"
  },
  "language_info": {
   "codemirror_mode": {
    "name": "ipython",
    "version": 3
   },
   "file_extension": ".py",
   "mimetype": "text/x-python",
   "name": "python",
   "nbconvert_exporter": "python",
   "pygments_lexer": "ipython3",
   "version": "3.7.0"
  }
 },
 "nbformat": 4,
 "nbformat_minor": 2
}
