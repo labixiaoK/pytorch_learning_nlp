{
 "cells": [
  {
   "cell_type": "markdown",
   "metadata": {},
   "source": [
    "## ==============Translation with a Sequence to Sequence Network and Attention==============="
   ]
  },
  {
   "cell_type": "code",
   "execution_count": 1,
   "metadata": {},
   "outputs": [],
   "source": [
    "from io import open\n",
    "import string\n",
    "import string\n",
    "import re\n",
    "import random\n",
    "import unicodedata\n",
    "\n",
    "import torch\n",
    "import torch.nn as nn\n",
    "from torch import optim\n",
    "import torch.nn.functional as F\n",
    "\n",
    "device = torch.device('cuda' if torch.cuda.is_available() else 'cpu')"
   ]
  },
  {
   "cell_type": "code",
   "execution_count": 2,
   "metadata": {},
   "outputs": [],
   "source": [
    "SOS_token = 0\n",
    "EOS_token = 1\n",
    "\n",
    "class Lang:\n",
    "    def __init__(self, name):\n",
    "        self.name = name\n",
    "        self.word2index = {}\n",
    "        self.word2count = {}\n",
    "        self.index2word = {0: 'SOS', 1: 'EOS'}\n",
    "        self.n_words = 2\n",
    "        \n",
    "    def addSentence(self, sentence):\n",
    "        for wd in sentence.split(' '):\n",
    "            self.addWord(wd)\n",
    "            \n",
    "    def addWord(self, wd):\n",
    "        if wd in self.word2index:\n",
    "            self.word2count[wd] += 1\n",
    "        else:\n",
    "            self.word2index[wd] = self.n_words\n",
    "            self.word2count[wd] = 1\n",
    "            self.index2word[self.n_words] = wd\n",
    "            self.n_words += 1\n",
    "    "
   ]
  },
  {
   "cell_type": "code",
   "execution_count": 3,
   "metadata": {},
   "outputs": [],
   "source": [
    "# Turn a Unicode string to plain ASCII, thanks to\n",
    "# http://stackoverflow.com/a/518232/2809427\n",
    "def unicodeToAscii(s):\n",
    "    return ''.join(\n",
    "        c for c in unicodedata.normalize('NFD', s)\n",
    "        if unicodedata.category(c) != 'Mn'\n",
    "    )\n",
    "\n",
    "# Lowercase, trim, and remove non-letter characters\n",
    "\n",
    "\n",
    "def normalizeString(s):\n",
    "    s = unicodeToAscii(s.lower().strip())\n",
    "    s = re.sub(r\"([.!?])\", r\" \\1\", s)\n",
    "    s = re.sub(r\"[^a-zA-Z.!?]+\", r\" \", s)\n",
    "    return s"
   ]
  },
  {
   "cell_type": "code",
   "execution_count": 4,
   "metadata": {},
   "outputs": [],
   "source": [
    "def readLangs(lang1, lang2, reverse=False):\n",
    "    lines = open('classify names with char rnn/data/{}-{}.txt'.format(lang1, lang2), encoding='utf-8').read().strip().split('\\n')\n",
    "    pairs = [[normalizeString(s) for s in line.strip().split('\\t')] for line in lines]\n",
    "    \n",
    "    if reverse:\n",
    "        pairs = [list(reversed(p)) for p in pairs]\n",
    "        input_lang = Lang(lang2)\n",
    "        output_lang = Lang(lang1)\n",
    "    else:\n",
    "        input_lang = Lange(lang1)\n",
    "        output_lang = Lange(lang2)\n",
    "    return input_lang, output_lang, pairs\n",
    "    "
   ]
  },
  {
   "cell_type": "code",
   "execution_count": 5,
   "metadata": {},
   "outputs": [],
   "source": [
    "#只取一部分数据集做demo"
   ]
  },
  {
   "cell_type": "code",
   "execution_count": 6,
   "metadata": {},
   "outputs": [],
   "source": [
    "MAX_LENGTH = 10\n",
    "\n",
    "eng_prefixes = (\n",
    "    \"i am \", \"i m \",\n",
    "    \"he is\", \"he s \",\n",
    "    \"she is\", \"she s\",\n",
    "    \"you are\", \"you re \",\n",
    "    \"we are\", \"we re \",\n",
    "    \"they are\", \"they re \"\n",
    ")\n",
    "\n",
    "\n",
    "def filterPair(pair):\n",
    "    return len(pair[0].strip().split(' ')) < MAX_LENGTH and len(pair[1].strip().split(' ')) < MAX_LENGTH and pair[1].strip().startswith(eng_prefixes)\n",
    "\n",
    "def filterPairs(pairs):\n",
    "    return [pair for pair in pairs if filterPair(pair)]\n",
    "    \n"
   ]
  },
  {
   "cell_type": "code",
   "execution_count": 7,
   "metadata": {},
   "outputs": [
    {
     "name": "stdout",
     "output_type": "stream",
     "text": [
      "=========start prepar date========\n",
      "original pairs:  135842\n",
      "after filter, paris:  10853\n",
      "Lang1/(input): fra, its vocab size: 4489\n",
      "Lang2/(output): eng, its vocab size: 2925\n",
      "['il n est pas encore la .', 'he s not in yet .']\n"
     ]
    }
   ],
   "source": [
    "def prepareData(lang1, lang2, reverse=False):\n",
    "    print('=========start prepar date========')\n",
    "    input_lang, output_lang, pairs = readLangs(lang1, lang2, reverse)\n",
    "    print('original pairs: ', len(pairs))\n",
    "    pairs = filterPairs(pairs)\n",
    "    print('after filter, paris: ', len(pairs))\n",
    "    \n",
    "    for pair in pairs:\n",
    "        input_lang.addSentence(pair[0])\n",
    "        output_lang.addSentence(pair[1])\n",
    "        \n",
    "    print('Lang1/(input): ' + input_lang.name + ', its vocab size: ' + str(input_lang.n_words))\n",
    "    print('Lang2/(output): ' + output_lang.name + ', its vocab size: ' + str(output_lang.n_words))\n",
    "    \n",
    "    return input_lang, output_lang, pairs\n",
    "\n",
    "input_lang, output_lang, pairs = prepareData('eng', 'fra', True)\n",
    "print(random.choice(pairs))"
   ]
  },
  {
   "cell_type": "code",
   "execution_count": 8,
   "metadata": {},
   "outputs": [],
   "source": [
    "class EncoderRNN(nn.Module):\n",
    "    def __init__(self, input_size, hidden_size):\n",
    "        super(EncoderRNN, self).__init__()\n",
    "        self.hidden_size = hidden_size\n",
    "        self.embeddings = nn.Embedding(input_size, hidden_size)\n",
    "        self.gru = nn.GRU(hidden_size, hidden_size)\n",
    "        #self.hidden = self.initHidden()\n",
    "        \n",
    "    def forward(self, input_, hidden):\n",
    "        embed = self.embeddings(input_).view(1, 1, -1)\n",
    "        output = embed\n",
    "        output, hidden = self.gru(output, hidden)\n",
    "        \n",
    "        return output, hidden\n",
    "    \n",
    "    def initHidden(self):\n",
    "        return torch.zeros(1, 1, self.hidden_size, device=device)\n",
    "             "
   ]
  },
  {
   "cell_type": "code",
   "execution_count": 9,
   "metadata": {},
   "outputs": [],
   "source": [
    "class DecoderRNN(nn.Module):\n",
    "    def __init__(self, input_size, hidden_size):\n",
    "        super(DecoderRNN, self).__init__()\n",
    "        \n",
    "        self.hidden_size = hidden_size\n",
    "        self.embeddings = nn.Embedding(input_size, hidden_size)\n",
    "        self.gru = nn.GRU(hidden_size, hidden_size)\n",
    "        self.linear = nn.Linear(hidden_size, input_size)\n",
    "        self.softmax = nn.LogSoftmax(dim=1)\n",
    "        \n",
    "    def forward(self, input_, hidden):\n",
    "        embed = self.embeddings(input_).view(1, 1, -1)\n",
    "        output = F.relu(embed)\n",
    "        output, hidden = self.gru(output, hidden)\n",
    "        output = self.linear(output[0])\n",
    "        output = self.softmax(output)\n",
    "        return output, hidden\n",
    "        \n",
    "    def initHidden(self):\n",
    "        return torch.zeros(1, 1, self.hidden_size, device=device)"
   ]
  },
  {
   "cell_type": "code",
   "execution_count": 10,
   "metadata": {},
   "outputs": [],
   "source": [
    "class AttnDecoderRNN(nn.Module):\n",
    "    def __init__(self, output_size, hidden_size, max_len=MAX_LENGTH, dropout_p=0.1):\n",
    "        super(AttnDecoderRNN, self).__init__()\n",
    "        self.hidden_size = hidden_size\n",
    "        self.output_size = output_size\n",
    "        self.max_len = max_len\n",
    "        self.dropout_p = dropout_p\n",
    "        \n",
    "        self.embeddings = nn.Embedding(output_size, hidden_size)\n",
    "        self.attn = nn.Linear(hidden_size * 2, max_len)\n",
    "        self.attn_combine = nn.Linear(hidden_size * 2, hidden_size)\n",
    "        self.dropout = nn.Dropout(dropout_p)\n",
    "        self.gru = nn.GRU(hidden_size, hidden_size)\n",
    "        self.out = nn.Linear(hidden_size, output_size)\n",
    "        \n",
    "    def forward(self, input_, hidden, encoder_outs):\n",
    "        embed = self.embeddings(input_).view(1, 1, -1)\n",
    "        embed = self.dropout(embed)\n",
    "        \n",
    "        attn_wei = F.softmax(self.attn(torch.cat((embed[0], hidden[0]), 1)), dim=1)\n",
    "        context_vec = torch.bmm(attn_wei.unsqueeze(0), encoder_outs.unsqueeze(0))\n",
    "        \n",
    "        attn_combine = self.attn_combine(torch.cat((embed[0], context_vec[0]), 1)).unsqueeze(0)\n",
    "        gru_in = F.relu(attn_combine)\n",
    "        \n",
    "        output, hidden = self.gru(gru_in, hidden)\n",
    "        out = F.log_softmax(self.out(output[0]), dim=1)\n",
    "        return out, hidden, attn_wei\n",
    "    \n",
    "    def initHidden(self):\n",
    "        return torch.zeros(1, 1, self.hidden_size, device=device)\n",
    "        \n",
    "        \n",
    "    \n",
    "        "
   ]
  },
  {
   "cell_type": "code",
   "execution_count": 11,
   "metadata": {},
   "outputs": [],
   "source": [
    "def indexesFromSentence(lang, sentence):\n",
    "    return [lang.word2index[w] for w in sentence.split(' ')]\n",
    "\n",
    "def tensorFromSentence(lang, sentence):\n",
    "    indexes = indexesFromSentence(lang, sentence)\n",
    "    indexes.append(EOS_token)\n",
    "    return torch.tensor(indexes, dtype=torch.long, device=device).view(-1, 1)\n",
    "\n",
    "def tensorsFromPair(pair):\n",
    "    input_tensor = tensorFromSentence(input_lang, pair[0])\n",
    "    target_tensor = tensorFromSentence(output_lang, pair[1])\n",
    "    \n",
    "    return input_tensor, target_tensor"
   ]
  },
  {
   "cell_type": "code",
   "execution_count": 12,
   "metadata": {},
   "outputs": [],
   "source": [
    "#training"
   ]
  },
  {
   "cell_type": "code",
   "execution_count": 13,
   "metadata": {},
   "outputs": [],
   "source": [
    "def train(input_tensor, target_tensor, encoder, decoder, encoder_optimizer, decoder_optimizer, criterion, with_attn=True, teacher_learn=False, max_len=MAX_LENGTH):\n",
    "    encoder.zero_grad()\n",
    "    decoder.zero_grad()\n",
    "    \n",
    "    input_len = input_tensor.size()[0]\n",
    "    target_len = target_tensor.size()[0]\n",
    "    \n",
    "    encoder_hidden = encoder.initHidden()\n",
    "    encoder_outs = torch.zeros(max_len, encoder.hidden_size, device=device)\n",
    "    \n",
    "    loss = 0\n",
    "    for ei in range(input_len):\n",
    "        #encoder_out: (seq_len, batch, num_directions * hidden_size) --> (1, 1, hidden_size)\n",
    "        #encoder_hidden: (num_layers * num_directions, batch, hidden_size) --> (1, 1, hidden_size)\n",
    "        encoder_out, encoder_hidden = encoder(input_tensor[ei].unsqueeze(0), encoder_hidden)  \n",
    "        encoder_outs[ei] = encoder_out[0, 0]\n",
    "        \n",
    "        #assert encoder_out == encoder_hidden\n",
    "        \n",
    "    decoder_input = torch.tensor([[SOS_token]], dtype=torch.long)\n",
    "    decoder_hidden = encoder_hidden\n",
    "    \n",
    "    if teacher_learn:\n",
    "        for di in range(target_len):\n",
    "            if with_attn:\n",
    "                decoder_out, decoder_hidden, _ = decoder(decoder_input, decoder_hidden, encoder_outs)\n",
    "            else:\n",
    "                decoder_out, decoder_hidden = decoder(decoder_input, decoder_hidden)\n",
    "            decoder_input = target_tensor[di]\n",
    "            loss += criterion(decoder_out, target_tensor[di])\n",
    "\n",
    "    else:\n",
    "        for di in range(target_len):\n",
    "            if with_attn:\n",
    "                decoder_out, decoder_hidden, _ = decoder(decoder_input, decoder_hidden, encoder_outs)\n",
    "            else:\n",
    "                decoder_out, decoder_hidden = decoder(decoder_input, decoder_hidden)\n",
    "            topv, topi = decoder_out.topk(1)\n",
    "            decoder_input = topi.squeeze().detach()  # detach from history as input!!!\n",
    "            loss += criterion(decoder_out, target_tensor[di])\n",
    "            \n",
    "            if topi == EOS_token:\n",
    "                break\n",
    "            \n",
    "    loss.backward()\n",
    "    \n",
    "    encoder_optimizer.step()\n",
    "    decoder_optimizer.step()\n",
    "    \n",
    "    return loss.item() / target_len"
   ]
  },
  {
   "cell_type": "code",
   "execution_count": 14,
   "metadata": {},
   "outputs": [],
   "source": [
    "import math\n",
    "import time\n",
    "\n",
    "def asMinutes(s):\n",
    "    min_ = s // 60\n",
    "    s -= min_ * 60\n",
    "    return '{}m, {:.0f}s'.format(min_, s)\n",
    "\n",
    "def timeSince(since, percent):\n",
    "    now = time.time()\n",
    "    s = now - since\n",
    "    es = s / percent\n",
    "    rs = es - s\n",
    "    return '{} - ({})'.format(asMinutes(s), asMinutes(rs))"
   ]
  },
  {
   "cell_type": "code",
   "execution_count": 15,
   "metadata": {},
   "outputs": [],
   "source": [
    "def trainIters(encoder, decoder, n_iters, with_attn=True, teacher_learn=False, print_every=1000, plot_every=100, learning_rate=0.03):\n",
    "    start = time.time()\n",
    "    plot_losses = []\n",
    "    print_loss_total = 0\n",
    "    plot_loss_total = 0\n",
    "    \n",
    "    encoder_optimizer = optim.SGD(encoder.parameters(), lr=learning_rate)\n",
    "    decoder_optimizer = optim.SGD(decoder.parameters(), lr=learning_rate)\n",
    "    \n",
    "    training_pairs = [tensorsFromPair(random.choice(pairs)) for i in range(n_iters)]\n",
    "    \n",
    "    criterion = nn.NLLLoss()\n",
    "    \n",
    "    for i in range(1, n_iters+1):\n",
    "        loss = train(training_pairs[i-1][0], training_pairs[i-1][1], encoder, decoder, encoder_optimizer, decoder_optimizer, criterion, with_attn=with_attn, teacher_learn=teacher_learn)\n",
    "        \n",
    "        print_loss_total += loss\n",
    "        plot_loss_total += loss\n",
    "        \n",
    "        if i % print_every == 0:\n",
    "            print_loss_avg = print_loss_total / print_every\n",
    "            print_loss_total = 0\n",
    "            print('{} ({} {:.2%}) {:.4}'.format(timeSince(start, i / n_iters), i, i / n_iters, print_loss_avg))\n",
    "    \n",
    "        if i % plot_every == 0:\n",
    "            plot_loss_avg = plot_loss_total / plot_every\n",
    "            plot_losses.append(plot_loss_avg)\n",
    "            plot_loss_total = 0\n",
    "    \n",
    "    plotShow(plot_losses)"
   ]
  },
  {
   "cell_type": "code",
   "execution_count": 16,
   "metadata": {},
   "outputs": [],
   "source": [
    "import matplotlib.pyplot as plt\n",
    "plt.switch_backend('agg')\n",
    "import matplotlib.ticker as ticker\n",
    "import numpy as np\n",
    "\n",
    "def plotShow(losses):\n",
    "    plt.figure()\n",
    "    fig, ax = plt.subplots()\n",
    "    loc = ticker.MultipleLocator(base=0.2)\n",
    "    ax.yaxis.set_major_locator(loc)\n",
    "    plt.plot(losses)\n",
    "    \n",
    "    "
   ]
  },
  {
   "cell_type": "code",
   "execution_count": 17,
   "metadata": {},
   "outputs": [],
   "source": [
    "###attn_decoder && non_teacher_learning"
   ]
  },
  {
   "cell_type": "code",
   "execution_count": 18,
   "metadata": {},
   "outputs": [
    {
     "name": "stdout",
     "output_type": "stream",
     "text": [
      "1.0m, 54s - (36.0m, 14s) (2000 5.00%) 3.164\n",
      "3.0m, 49s - (34.0m, 17s) (4000 10.00%) 2.705\n",
      "5.0m, 43s - (32.0m, 26s) (6000 15.00%) 2.472\n",
      "7.0m, 38s - (30.0m, 31s) (8000 20.00%) 2.334\n",
      "9.0m, 33s - (28.0m, 40s) (10000 25.00%) 2.238\n",
      "11.0m, 28s - (26.0m, 45s) (12000 30.00%) 2.144\n",
      "13.0m, 24s - (24.0m, 53s) (14000 35.00%) 2.055\n",
      "15.0m, 21s - (23.0m, 1s) (16000 40.00%) 2.008\n",
      "17.0m, 16s - (21.0m, 6s) (18000 45.00%) 1.926\n",
      "19.0m, 13s - (19.0m, 13s) (20000 50.00%) 1.876\n",
      "21.0m, 10s - (17.0m, 19s) (22000 55.00%) 1.829\n",
      "23.0m, 7s - (15.0m, 24s) (24000 60.00%) 1.793\n",
      "25.0m, 4s - (13.0m, 30s) (26000 65.00%) 1.782\n",
      "26.0m, 59s - (11.0m, 34s) (28000 70.00%) 1.74\n",
      "28.0m, 56s - (9.0m, 39s) (30000 75.00%) 1.72\n",
      "30.0m, 51s - (7.0m, 43s) (32000 80.00%) 1.736\n",
      "32.0m, 48s - (5.0m, 47s) (34000 85.00%) 1.717\n",
      "34.0m, 44s - (3.0m, 52s) (36000 90.00%) 1.648\n",
      "36.0m, 40s - (1.0m, 56s) (38000 95.00%) 1.678\n",
      "38.0m, 37s - (0.0m, 0s) (40000 100.00%) 1.621\n"
     ]
    },
    {
     "data": {
      "text/plain": [
       "<Figure size 432x288 with 0 Axes>"
      ]
     },
     "metadata": {},
     "output_type": "display_data"
    },
    {
     "data": {
      "image/png": "[encoded data removed]",
      "text/plain": [
       "<Figure size 432x288 with 1 Axes>"
      ]
     },
     "metadata": {
      "needs_background": "light"
     },
     "output_type": "display_data"
    }
   ],
   "source": [
    "hidden_size = 128\n",
    "encoder1 = EncoderRNN(input_lang.n_words, hidden_size).to(device)\n",
    "attn_decoder1 = AttnDecoderRNN(output_lang.n_words, hidden_size).to(device)\n",
    "\n",
    "trainIters(encoder1, attn_decoder1, n_iters=40000, print_every=2000)"
   ]
  },
  {
   "cell_type": "code",
   "execution_count": 19,
   "metadata": {},
   "outputs": [],
   "source": [
    "###ori decoder && non_teacher_learn"
   ]
  },
  {
   "cell_type": "code",
   "execution_count": 20,
   "metadata": {},
   "outputs": [
    {
     "name": "stdout",
     "output_type": "stream",
     "text": [
      "1.0m, 42s - (32.0m, 19s) (2000 5.00%) 3.148\n",
      "3.0m, 27s - (31.0m, 1s) (4000 10.00%) 2.755\n",
      "5.0m, 13s - (29.0m, 32s) (6000 15.00%) 2.496\n",
      "6.0m, 59s - (27.0m, 57s) (8000 20.00%) 2.357\n",
      "8.0m, 46s - (26.0m, 18s) (10000 25.00%) 2.207\n",
      "10.0m, 33s - (24.0m, 36s) (12000 30.00%) 2.062\n",
      "12.0m, 19s - (22.0m, 53s) (14000 35.00%) 1.927\n",
      "14.0m, 9s - (21.0m, 13s) (16000 40.00%) 1.92\n",
      "15.0m, 56s - (19.0m, 28s) (18000 45.00%) 1.811\n",
      "17.0m, 43s - (17.0m, 43s) (20000 50.00%) 1.777\n",
      "19.0m, 30s - (15.0m, 57s) (22000 55.00%) 1.743\n",
      "21.0m, 17s - (14.0m, 12s) (24000 60.00%) 1.757\n",
      "23.0m, 5s - (12.0m, 26s) (26000 65.00%) 1.587\n",
      "24.0m, 52s - (10.0m, 39s) (28000 70.00%) 1.587\n",
      "26.0m, 39s - (8.0m, 53s) (30000 75.00%) 1.595\n",
      "28.0m, 27s - (7.0m, 7s) (32000 80.00%) 1.507\n",
      "30.0m, 15s - (5.0m, 20s) (34000 85.00%) 1.545\n",
      "32.0m, 2s - (3.0m, 34s) (36000 90.00%) 1.431\n",
      "33.0m, 51s - (1.0m, 47s) (38000 95.00%) 1.44\n",
      "35.0m, 39s - (0.0m, 0s) (40000 100.00%) 1.379\n"
     ]
    },
    {
     "data": {
      "text/plain": [
       "<Figure size 432x288 with 0 Axes>"
      ]
     },
     "metadata": {},
     "output_type": "display_data"
    },
    {
     "data": {
      "image/png": "[encoded data removed]",
      "text/plain": [
       "<Figure size 432x288 with 1 Axes>"
      ]
     },
     "metadata": {
      "needs_background": "light"
     },
     "output_type": "display_data"
    }
   ],
   "source": [
    "hidden_size = 128\n",
    "encoder2 = EncoderRNN(input_lang.n_words, hidden_size).to(device)\n",
    "ori_decoder2 = DecoderRNN(output_lang.n_words, hidden_size).to(device)\n",
    "\n",
    "trainIters(encoder2, ori_decoder2, n_iters=40000, print_every=2000, with_attn=False)"
   ]
  },
  {
   "cell_type": "code",
   "execution_count": 21,
   "metadata": {},
   "outputs": [],
   "source": [
    "###ori decoder && teacher_learn"
   ]
  },
  {
   "cell_type": "code",
   "execution_count": 22,
   "metadata": {},
   "outputs": [
    {
     "name": "stdout",
     "output_type": "stream",
     "text": [
      "1.0m, 51s - (35.0m, 17s) (2000 5.00%) 3.044\n",
      "3.0m, 41s - (33.0m, 12s) (4000 10.00%) 2.358\n",
      "5.0m, 31s - (31.0m, 18s) (6000 15.00%) 2.087\n",
      "7.0m, 21s - (29.0m, 23s) (8000 20.00%) 1.873\n",
      "9.0m, 11s - (27.0m, 33s) (10000 25.00%) 1.75\n",
      "11.0m, 1s - (25.0m, 41s) (12000 30.00%) 1.596\n",
      "12.0m, 51s - (23.0m, 51s) (14000 35.00%) 1.534\n",
      "76.0m, 33s - (114.0m, 50s) (16000 40.00%) 1.393\n",
      "78.0m, 25s - (95.0m, 50s) (18000 45.00%) 1.339\n",
      "80.0m, 15s - (80.0m, 15s) (20000 50.00%) 1.286\n",
      "82.0m, 6s - (67.0m, 11s) (22000 55.00%) 1.176\n",
      "83.0m, 59s - (55.0m, 59s) (24000 60.00%) 1.164\n",
      "85.0m, 51s - (46.0m, 14s) (26000 65.00%) 1.079\n",
      "87.0m, 47s - (37.0m, 37s) (28000 70.00%) 1.039\n",
      "89.0m, 38s - (29.0m, 53s) (30000 75.00%) 0.9728\n",
      "91.0m, 28s - (22.0m, 52s) (32000 80.00%) 0.9242\n",
      "93.0m, 18s - (16.0m, 28s) (34000 85.00%) 0.9104\n",
      "95.0m, 8s - (10.0m, 34s) (36000 90.00%) 0.8939\n",
      "96.0m, 58s - (5.0m, 6s) (38000 95.00%) 0.8015\n",
      "98.0m, 47s - (0.0m, 0s) (40000 100.00%) 0.8037\n"
     ]
    },
    {
     "data": {
      "text/plain": [
       "<Figure size 432x288 with 0 Axes>"
      ]
     },
     "metadata": {},
     "output_type": "display_data"
    },
    {
     "data": {
      "image/png": "[encoded data removed]",
      "text/plain": [
       "<Figure size 432x288 with 1 Axes>"
      ]
     },
     "metadata": {
      "needs_background": "light"
     },
     "output_type": "display_data"
    }
   ],
   "source": [
    "hidden_size = 128\n",
    "encoder3 = EncoderRNN(input_lang.n_words, hidden_size).to(device)\n",
    "ori_decoder3 = DecoderRNN(output_lang.n_words, hidden_size).to(device)\n",
    "\n",
    "trainIters(encoder3, ori_decoder3, n_iters=40000, print_every=2000, with_attn=False, teacher_learn=True)"
   ]
  },
  {
   "cell_type": "code",
   "execution_count": 27,
   "metadata": {},
   "outputs": [],
   "source": [
    "def evaluate(encoder, decoder, sentence, with_attn=True, max_len=MAX_LENGTH):\n",
    "    with torch.no_grad():\n",
    "        input_tensor = tensorFromSentence(input_lang, sentence)\n",
    "        input_len = input_tensor.size()[0]\n",
    "        encoder_hidden = encoder.initHidden()\n",
    "        \n",
    "        encoder_outputs = torch.zeros(max_len, encoder.hidden_size, device=device)\n",
    "        for ei in range(input_len):\n",
    "            encoder_out, encoder_hidden = encoder(input_tensor[ei], encoder_hidden)\n",
    "            encoder_outputs[ei] += encoder_out[0, 0]\n",
    "            \n",
    "        decoder_input = torch.tensor([[SOS_token]], device=device)\n",
    "        decoder_hidden = encoder_hidden\n",
    "        \n",
    "        decoded_words = []\n",
    "        decoder_attns = torch.zeros(max_len, max_len)\n",
    "        \n",
    "        for di in range(max_len):\n",
    "            if with_attn:\n",
    "                decoder_out, decoder_hidden, decoder_attn = decoder(decoder_input, decoder_hidden, encoder_outputs)\n",
    "                decoder_attns[di] = decoder_attn.data\n",
    "            else:\n",
    "                decoder_out, decoder_hidden = decoder(decoder_input, decoder_hidden)\n",
    "            \n",
    "            topv, topi = decoder_out.data.topk(1)\n",
    "            if topi.item() == EOS_token:\n",
    "                decoded_words.append('<EOS>')\n",
    "                break\n",
    "            else:\n",
    "                decoded_words.append(output_lang.index2word[topi.item()])\n",
    "                \n",
    "            decoder_input = topi.squeeze().detach()\n",
    "        if with_attn:  \n",
    "            return decoded_words, decoder_attns[:di + 1]\n",
    "        else:\n",
    "            return decoded_words\n",
    "                "
   ]
  },
  {
   "cell_type": "code",
   "execution_count": 28,
   "metadata": {},
   "outputs": [],
   "source": [
    "def evaluateRandomly(encoder, decoder, with_attn=True, n=10):\n",
    "    for i in range(n):\n",
    "        pair = random.choice(pairs)\n",
    "        print('> ', pair[0])\n",
    "        print('= ', pair[1])\n",
    "        if with_attn:\n",
    "            outs , attn = evaluate(encoder, decoder, pair[0])\n",
    "        else:\n",
    "            outs = evaluate(encoder, decoder, pair[0], with_attn=False)\n",
    "        \n",
    "        print('< ', ' '.join(outs))\n",
    "        print('')"
   ]
  },
  {
   "cell_type": "code",
   "execution_count": 31,
   "metadata": {},
   "outputs": [],
   "source": [
    "def compareRes(model_1, model_2, model_3, n=10):\n",
    "    for i in range(n):\n",
    "        pair = random.choice(pairs)\n",
    "        print('===========' + str(i) + '=============')\n",
    "        print('input--> ', pair[0])\n",
    "        print('gold--> ', pair[1])\n",
    "        outs_1, _ = evaluate(model_1[0], model_1[1], pair[0])\n",
    "        print('attn_decoder&&non_teacher_learning-->', ' '.join(outs_1))\n",
    "        outs_2 = evaluate(model_2[0], model_2[1], pair[0], with_attn=False)\n",
    "        print('ori_decoder&&non_teacher_learning-->', ' '.join(outs_2))\n",
    "        outs_3 = evaluate(model_3[0], model_3[1], pair[0], with_attn=False)\n",
    "        print('ori_decoder&&teacher_learning-->', ' '.join(outs_3))"
   ]
  },
  {
   "cell_type": "code",
   "execution_count": 32,
   "metadata": {},
   "outputs": [
    {
     "name": "stdout",
     "output_type": "stream",
     "text": [
      "===========0=============\n",
      "input-->  il semble probable qu il echoue .\n",
      "gold-->  he is not likely to succeed .\n",
      "attn_decoder&&non_teacher_learning--> he s likely likely likely he s . <EOS>\n",
      "ori_decoder&&non_teacher_learning--> he is likely it it <EOS>\n",
      "ori_decoder&&teacher_learning--> he is likely to come . <EOS>\n",
      "===========1=============\n",
      "input-->  je vais rentrer chez moi demain .\n",
      "gold-->  i m going back home tomorrow .\n",
      "attn_decoder&&non_teacher_learning--> i am going to leave tomorrow tomorrow <EOS>\n",
      "ori_decoder&&non_teacher_learning--> i m going home tomorrow tomorrow . <EOS>\n",
      "ori_decoder&&teacher_learning--> i m going back home tomorrow . <EOS>\n",
      "===========2=============\n",
      "input-->  je suis desolee de t avoir blesse .\n",
      "gold-->  i m sorry i hurt you .\n",
      "attn_decoder&&non_teacher_learning--> i m sorry i as you you . <EOS>\n",
      "ori_decoder&&non_teacher_learning--> i m sorry i yelled you . <EOS>\n",
      "ori_decoder&&teacher_learning--> i m sorry i hurt you . <EOS>\n",
      "===========3=============\n",
      "input-->  il est etudiant a harvard .\n",
      "gold-->  he is a student at harvard .\n",
      "attn_decoder&&non_teacher_learning--> he is addicted to than . <EOS>\n",
      "ori_decoder&&non_teacher_learning--> he is a student student . . <EOS>\n",
      "ori_decoder&&teacher_learning--> he s a student and student . <EOS>\n",
      "===========4=============\n",
      "input-->  elle est entierement devouee a ses trois enfants .\n",
      "gold-->  she is devoted to her three children .\n",
      "attn_decoder&&non_teacher_learning--> she is going to to to to . <EOS>\n",
      "ori_decoder&&non_teacher_learning--> she is to to to my being . <EOS>\n",
      "ori_decoder&&teacher_learning--> she is his her old . <EOS>\n",
      "===========5=============\n",
      "input-->  je suis impulsif .\n",
      "gold-->  i m impulsive .\n",
      "attn_decoder&&non_teacher_learning--> i am sick ready . <EOS>\n",
      "ori_decoder&&non_teacher_learning--> i m innocent . <EOS>\n",
      "ori_decoder&&teacher_learning--> i m impulsive . <EOS>\n",
      "===========6=============\n",
      "input-->  je ne suis pas saoul a ce point .\n",
      "gold-->  i m not all that drunk .\n",
      "attn_decoder&&non_teacher_learning--> i m not married worried . <EOS>\n",
      "ori_decoder&&non_teacher_learning--> i m not a to die . <EOS>\n",
      "ori_decoder&&teacher_learning--> i m not used to it . <EOS>\n",
      "===========7=============\n",
      "input-->  je suis contente que ca te rende heureuse .\n",
      "gold-->  i m glad that makes you happy .\n",
      "attn_decoder&&non_teacher_learning--> i m happy happy to happy <EOS>\n",
      "ori_decoder&&non_teacher_learning--> i m glad that makes you happy . <EOS>\n",
      "ori_decoder&&teacher_learning--> i m glad that makes you happy . <EOS>\n",
      "===========8=============\n",
      "input-->  je cherche mes mots .\n",
      "gold-->  i am at a loss for words .\n",
      "attn_decoder&&non_teacher_learning--> i m looking for my my . <EOS>\n",
      "ori_decoder&&non_teacher_learning--> i m at a loss loss words . . <EOS>\n",
      "ori_decoder&&teacher_learning--> i m looking for a friend . <EOS>\n",
      "===========9=============\n",
      "input-->  elle cherche un meilleur emploi .\n",
      "gold-->  she s looking for a better job .\n",
      "attn_decoder&&non_teacher_learning--> she is a a job . <EOS>\n",
      "ori_decoder&&non_teacher_learning--> she spoke for for for for . <EOS>\n",
      "ori_decoder&&teacher_learning--> she is looking for a job . <EOS>\n",
      "===========10=============\n",
      "input-->  je suis en train d ecrire un bouquin .\n",
      "gold-->  i m writing a book .\n",
      "attn_decoder&&non_teacher_learning--> i m a a . <EOS>\n",
      "ori_decoder&&non_teacher_learning--> i m a a owl . . <EOS>\n",
      "ori_decoder&&teacher_learning--> i m writing a letter . <EOS>\n",
      "===========11=============\n",
      "input-->  il adore l opera .\n",
      "gold-->  he s an opera lover .\n",
      "attn_decoder&&non_teacher_learning--> he s fond opera lover . . <EOS>\n",
      "ori_decoder&&non_teacher_learning--> he s in the his . . <EOS>\n",
      "ori_decoder&&teacher_learning--> he s definitely a cold worker . <EOS>\n",
      "===========12=============\n",
      "input-->  c est celui qui m a tripote .\n",
      "gold-->  he s the one who touched me .\n",
      "attn_decoder&&non_teacher_learning--> he s the one who trained me . <EOS>\n",
      "ori_decoder&&non_teacher_learning--> he re one one who me me . <EOS>\n",
      "ori_decoder&&teacher_learning--> he s the one who touched me . <EOS>\n",
      "===========13=============\n",
      "input-->  tu n es pas rationnelle .\n",
      "gold-->  you re not being rational .\n",
      "attn_decoder&&non_teacher_learning--> you re not singer . <EOS>\n",
      "ori_decoder&&non_teacher_learning--> you re not being rational . <EOS>\n",
      "ori_decoder&&teacher_learning--> you re not being rational . <EOS>\n",
      "===========14=============\n",
      "input-->  je suis detendu .\n",
      "gold-->  i m relaxed .\n",
      "attn_decoder&&non_teacher_learning--> i m a . <EOS>\n",
      "ori_decoder&&non_teacher_learning--> i m relaxed . <EOS>\n",
      "ori_decoder&&teacher_learning--> i m being promoted . <EOS>\n"
     ]
    }
   ],
   "source": [
    "compareRes((encoder1, attn_decoder1), (encoder2, ori_decoder2), (encoder3, ori_decoder3), n=15)"
   ]
  },
  {
   "cell_type": "code",
   "execution_count": 33,
   "metadata": {},
   "outputs": [],
   "source": [
    "#分析：\n",
    "#1.对于训练集的loss来说，都还没有到收敛，因为太慢了，可以拿到服务器上面跑\n",
    "#2.loss: attn > non_attn > teacher_learning; 而且 non_attn 比 attn收敛更快；尴尬，attn起了副作用？也说不好：一是没有训练完全，二是句子太短，\n",
    "#最长为10，可能还没轮到attn的发挥\n",
    "#3.teacher_learning的loss显著较小，因为强行输入的是按gold输入的，肯定会小一些，但是！！！最后的case看，也明显好，说好的不稳定呢？\n",
    "#需要查些资料验证下；\n",
    "#4.attn到底学到了东西吗？下面可视化看下："
   ]
  },
  {
   "cell_type": "code",
   "execution_count": 37,
   "metadata": {},
   "outputs": [],
   "source": [
    "def showAttention(input_, output_, attns):\n",
    "    fig = plt.figure()\n",
    "    ax = fig.add_subplot(111)\n",
    "    #cax = ax.matshow(attns.numpy(), cmap='bone')\n",
    "    cax = ax.matshow(attns.numpy())\n",
    "    fig.colorbar(cax)\n",
    "    \n",
    "    ax.set_xticklabels([''] + input_.strip().split(' ') + ['<EOS>'], rotation=90)\n",
    "    ax.set_yticklabels([''] + output_.strip().split(' ') + ['<EOS>'])\n",
    "    \n",
    "    ax.xaxis.set_major_locator(ticker.MultipleLocator(1))\n",
    "    ax.yaxis.set_major_locator(ticker.MultipleLocator(1))\n",
    "    \n",
    "    plt.show()\n",
    "    \n",
    "def evalAndShowAttn(input_sent):\n",
    "    output_wds, output_attns = evaluate(encoder1, attn_decoder1, input_sent)\n",
    "    print('input: ', input_sent)\n",
    "    print('output: ', ' '.join(output_wds))\n",
    "    showAttention(input_sent, ' '.join(output_wds), output_attns)\n",
    "    "
   ]
  },
  {
   "cell_type": "code",
   "execution_count": 38,
   "metadata": {},
   "outputs": [
    {
     "name": "stdout",
     "output_type": "stream",
     "text": [
      "input:  il semble probable qu il echoue .\n",
      "output:  he s likely likely win she game . . <EOS>\n"
     ]
    },
    {
     "data": {
      "image/png": "[encoded data removed]",
      "text/plain": [
       "<Figure size 432x288 with 2 Axes>"
      ]
     },
     "metadata": {
      "needs_background": "light"
     },
     "output_type": "display_data"
    }
   ],
   "source": [
    "evalAndShowAttn('il semble probable qu il echoue .')"
   ]
  },
  {
   "cell_type": "code",
   "execution_count": 40,
   "metadata": {},
   "outputs": [
    {
     "name": "stdout",
     "output_type": "stream",
     "text": [
      "input:  je suis detendu .\n",
      "output:  i m stubborn . . <EOS>\n"
     ]
    },
    {
     "data": {
      "image/png": "[encoded data removed]",
      "text/plain": [
       "<Figure size 432x288 with 2 Axes>"
      ]
     },
     "metadata": {
      "needs_background": "light"
     },
     "output_type": "display_data"
    }
   ],
   "source": [
    "evalAndShowAttn('je suis detendu .')"
   ]
  },
  {
   "cell_type": "code",
   "execution_count": 41,
   "metadata": {},
   "outputs": [
    {
     "name": "stdout",
     "output_type": "stream",
     "text": [
      "input:  tu n es pas rationnelle .\n",
      "output:  you re not singer . <EOS>\n"
     ]
    },
    {
     "data": {
      "image/png": "[encoded data removed]",
      "text/plain": [
       "<Figure size 432x288 with 2 Axes>"
      ]
     },
     "metadata": {
      "needs_background": "light"
     },
     "output_type": "display_data"
    }
   ],
   "source": [
    "evalAndShowAttn('tu n es pas rationnelle .')"
   ]
  },
  {
   "cell_type": "code",
   "execution_count": 42,
   "metadata": {},
   "outputs": [
    {
     "name": "stdout",
     "output_type": "stream",
     "text": [
      "input:  je suis contente que ca te rende heureuse .\n",
      "output:  i m happy happy to you happy <EOS>\n"
     ]
    },
    {
     "data": {
      "image/png": "[encoded data removed]",
      "text/plain": [
       "<Figure size 432x288 with 2 Axes>"
      ]
     },
     "metadata": {
      "needs_background": "light"
     },
     "output_type": "display_data"
    }
   ],
   "source": [
    "evalAndShowAttn('je suis contente que ca te rende heureuse .')"
   ]
  },
  {
   "cell_type": "code",
   "execution_count": 43,
   "metadata": {},
   "outputs": [],
   "source": [
    "#感觉并不是很好"
   ]
  },
  {
   "cell_type": "code",
   "execution_count": 44,
   "metadata": {},
   "outputs": [],
   "source": [
    "#待到服务器上敞开跑跑在分析吧"
   ]
  },
  {
   "cell_type": "code",
   "execution_count": null,
   "metadata": {},
   "outputs": [],
   "source": []
  }
 ],
 "metadata": {
  "kernelspec": {
   "display_name": "Python 3",
   "language": "python",
   "name": "python3"
  },
  "language_info": {
   "codemirror_mode": {
    "name": "ipython",
    "version": 3
   },
   "file_extension": ".py",
   "mimetype": "text/x-python",
   "name": "python",
   "nbconvert_exporter": "python",
   "pygments_lexer": "ipython3",
   "version": "3.7.0"
  }
 },
 "nbformat": 4,
 "nbformat_minor": 2
}
